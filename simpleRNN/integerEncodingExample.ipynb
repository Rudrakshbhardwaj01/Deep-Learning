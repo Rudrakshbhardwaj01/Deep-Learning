{
 "cells": [
  {
   "cell_type": "code",
   "execution_count": 35,
   "id": "04bdbc83",
   "metadata": {},
   "outputs": [],
   "source": [
    "import numpy as np\n",
    "import tensorflow\n",
    "from tensorflow import keras\n",
    "\n",
    "docs= [\n",
    "    \"The dog runs in the park every morning.\",\n",
    "    \"A small dog chased a ball across the park.\",\n",
    "    \"Children love to play in the park when the sun is bright.\",\n",
    "    \"I saw a dog sleeping under the old tree.\",\n",
    "    \"The sun rises over the park and fills it with light.\",\n",
    "    \"We decided to run together before the sun went down.\",\n",
    "    \"A playful dog barked loudly at the gate.\",\n",
    "    \"They like to run around the park on weekends.\",\n",
    "    \"The park looks peaceful when the sun sets behind the hills.\",\n",
    "    \"Running with my dog in the park makes me happy.\"\n",
    "]\n"
   ]
  },
  {
   "cell_type": "code",
   "execution_count": 36,
   "id": "bb0fca82",
   "metadata": {},
   "outputs": [],
   "source": [
    "# Tokenizing the data\n",
    "from tensorflow.keras.preprocessing.text import Tokenizer\n",
    "tokenizer=Tokenizer(oov_token=\"nothing\") # oov_token-> out of vocabulary token i.e. replace all the words not present in the vocabulary with 'nothing'"
   ]
  },
  {
   "cell_type": "code",
   "execution_count": 37,
   "id": "290cc9ff",
   "metadata": {},
   "outputs": [],
   "source": [
    "tokenizer.fit_on_texts(docs)"
   ]
  },
  {
   "cell_type": "code",
   "execution_count": null,
   "id": "69575b21",
   "metadata": {},
   "outputs": [
    {
     "data": {
      "text/plain": [
       "{'nothing': 1,\n",
       " 'the': 2,\n",
       " 'park': 3,\n",
       " 'dog': 4,\n",
       " 'a': 5,\n",
       " 'sun': 6,\n",
       " 'in': 7,\n",
       " 'to': 8,\n",
       " 'when': 9,\n",
       " 'with': 10,\n",
       " 'run': 11,\n",
       " 'runs': 12,\n",
       " 'every': 13,\n",
       " 'morning': 14,\n",
       " 'small': 15,\n",
       " 'chased': 16,\n",
       " 'ball': 17,\n",
       " 'across': 18,\n",
       " 'children': 19,\n",
       " 'love': 20,\n",
       " 'play': 21,\n",
       " 'is': 22,\n",
       " 'bright': 23,\n",
       " 'i': 24,\n",
       " 'saw': 25,\n",
       " 'sleeping': 26,\n",
       " 'under': 27,\n",
       " 'old': 28,\n",
       " 'tree': 29,\n",
       " 'rises': 30,\n",
       " 'over': 31,\n",
       " 'and': 32,\n",
       " 'fills': 33,\n",
       " 'it': 34,\n",
       " 'light': 35,\n",
       " 'we': 36,\n",
       " 'decided': 37,\n",
       " 'together': 38,\n",
       " 'before': 39,\n",
       " 'went': 40,\n",
       " 'down': 41,\n",
       " 'playful': 42,\n",
       " 'barked': 43,\n",
       " 'loudly': 44,\n",
       " 'at': 45,\n",
       " 'gate': 46,\n",
       " 'they': 47,\n",
       " 'like': 48,\n",
       " 'around': 49,\n",
       " 'on': 50,\n",
       " 'weekends': 51,\n",
       " 'looks': 52,\n",
       " 'peaceful': 53,\n",
       " 'sets': 54,\n",
       " 'behind': 55,\n",
       " 'hills': 56,\n",
       " 'running': 57,\n",
       " 'my': 58,\n",
       " 'makes': 59,\n",
       " 'me': 60,\n",
       " 'happy': 61}"
      ]
     },
     "execution_count": 38,
     "metadata": {},
     "output_type": "execute_result"
    }
   ],
   "source": [
    "tokenizer.word_index # index values assigned to the words in the vocabulary"
   ]
  },
  {
   "cell_type": "code",
   "execution_count": 39,
   "id": "3068cc77",
   "metadata": {},
   "outputs": [
    {
     "data": {
      "text/plain": [
       "OrderedDict([('the', 15),\n",
       "             ('dog', 5),\n",
       "             ('runs', 1),\n",
       "             ('in', 3),\n",
       "             ('park', 7),\n",
       "             ('every', 1),\n",
       "             ('morning', 1),\n",
       "             ('a', 4),\n",
       "             ('small', 1),\n",
       "             ('chased', 1),\n",
       "             ('ball', 1),\n",
       "             ('across', 1),\n",
       "             ('children', 1),\n",
       "             ('love', 1),\n",
       "             ('to', 3),\n",
       "             ('play', 1),\n",
       "             ('when', 2),\n",
       "             ('sun', 4),\n",
       "             ('is', 1),\n",
       "             ('bright', 1),\n",
       "             ('i', 1),\n",
       "             ('saw', 1),\n",
       "             ('sleeping', 1),\n",
       "             ('under', 1),\n",
       "             ('old', 1),\n",
       "             ('tree', 1),\n",
       "             ('rises', 1),\n",
       "             ('over', 1),\n",
       "             ('and', 1),\n",
       "             ('fills', 1),\n",
       "             ('it', 1),\n",
       "             ('with', 2),\n",
       "             ('light', 1),\n",
       "             ('we', 1),\n",
       "             ('decided', 1),\n",
       "             ('run', 2),\n",
       "             ('together', 1),\n",
       "             ('before', 1),\n",
       "             ('went', 1),\n",
       "             ('down', 1),\n",
       "             ('playful', 1),\n",
       "             ('barked', 1),\n",
       "             ('loudly', 1),\n",
       "             ('at', 1),\n",
       "             ('gate', 1),\n",
       "             ('they', 1),\n",
       "             ('like', 1),\n",
       "             ('around', 1),\n",
       "             ('on', 1),\n",
       "             ('weekends', 1),\n",
       "             ('looks', 1),\n",
       "             ('peaceful', 1),\n",
       "             ('sets', 1),\n",
       "             ('behind', 1),\n",
       "             ('hills', 1),\n",
       "             ('running', 1),\n",
       "             ('my', 1),\n",
       "             ('makes', 1),\n",
       "             ('me', 1),\n",
       "             ('happy', 1)])"
      ]
     },
     "execution_count": 39,
     "metadata": {},
     "output_type": "execute_result"
    }
   ],
   "source": [
    "# word frequency\n",
    "tokenizer.word_counts "
   ]
  },
  {
   "cell_type": "code",
   "execution_count": 40,
   "id": "70096595",
   "metadata": {},
   "outputs": [
    {
     "data": {
      "text/plain": [
       "10"
      ]
     },
     "execution_count": 40,
     "metadata": {},
     "output_type": "execute_result"
    }
   ],
   "source": [
    "# number of rows in the data\n",
    "tokenizer.document_count"
   ]
  },
  {
   "cell_type": "code",
   "execution_count": 41,
   "id": "e869ffca",
   "metadata": {},
   "outputs": [
    {
     "data": {
      "text/plain": [
       "[[2, 4, 12, 7, 2, 3, 13, 14],\n",
       " [5, 15, 4, 16, 5, 17, 18, 2, 3],\n",
       " [19, 20, 8, 21, 7, 2, 3, 9, 2, 6, 22, 23],\n",
       " [24, 25, 5, 4, 26, 27, 2, 28, 29],\n",
       " [2, 6, 30, 31, 2, 3, 32, 33, 34, 10, 35],\n",
       " [36, 37, 8, 11, 38, 39, 2, 6, 40, 41],\n",
       " [5, 42, 4, 43, 44, 45, 2, 46],\n",
       " [47, 48, 8, 11, 49, 2, 3, 50, 51],\n",
       " [2, 3, 52, 53, 9, 2, 6, 54, 55, 2, 56],\n",
       " [57, 10, 58, 4, 7, 2, 3, 59, 60, 61]]"
      ]
     },
     "execution_count": 41,
     "metadata": {},
     "output_type": "execute_result"
    }
   ],
   "source": [
    "# generating sequences i.e.converting sentences into numbers\n",
    "sequences=tokenizer.texts_to_sequences(docs)\n",
    "sequences"
   ]
  },
  {
   "cell_type": "code",
   "execution_count": 42,
   "id": "d39f7a81",
   "metadata": {},
   "outputs": [
    {
     "data": {
      "text/plain": [
       "array([[ 2,  4, 12,  7,  2,  3, 13, 14,  0,  0,  0,  0],\n",
       "       [ 5, 15,  4, 16,  5, 17, 18,  2,  3,  0,  0,  0],\n",
       "       [19, 20,  8, 21,  7,  2,  3,  9,  2,  6, 22, 23],\n",
       "       [24, 25,  5,  4, 26, 27,  2, 28, 29,  0,  0,  0],\n",
       "       [ 2,  6, 30, 31,  2,  3, 32, 33, 34, 10, 35,  0],\n",
       "       [36, 37,  8, 11, 38, 39,  2,  6, 40, 41,  0,  0],\n",
       "       [ 5, 42,  4, 43, 44, 45,  2, 46,  0,  0,  0,  0],\n",
       "       [47, 48,  8, 11, 49,  2,  3, 50, 51,  0,  0,  0],\n",
       "       [ 2,  3, 52, 53,  9,  2,  6, 54, 55,  2, 56,  0],\n",
       "       [57, 10, 58,  4,  7,  2,  3, 59, 60, 61,  0,  0]])"
      ]
     },
     "execution_count": 42,
     "metadata": {},
     "output_type": "execute_result"
    }
   ],
   "source": [
    "# applying padding to make all the sequences of the same size\n",
    "from keras.utils import pad_sequences\n",
    "sequences=pad_sequences(sequences,padding='post') # pre-> zeros will be added in the beginning post-> zeros will be added at the end\n",
    "sequences"
   ]
  }
 ],
 "metadata": {
  "kernelspec": {
   "display_name": "base",
   "language": "python",
   "name": "python3"
  },
  "language_info": {
   "codemirror_mode": {
    "name": "ipython",
    "version": 3
   },
   "file_extension": ".py",
   "mimetype": "text/x-python",
   "name": "python",
   "nbconvert_exporter": "python",
   "pygments_lexer": "ipython3",
   "version": "3.12.7"
  }
 },
 "nbformat": 4,
 "nbformat_minor": 5
}
