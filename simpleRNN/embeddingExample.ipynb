{
 "cells": [
  {
   "cell_type": "code",
   "execution_count": 6,
   "id": "2e2550c4",
   "metadata": {},
   "outputs": [],
   "source": [
    "# the data to be input-ed in the embedding layer must be integer encoded"
   ]
  },
  {
   "cell_type": "code",
   "execution_count": 7,
   "id": "78f30c33",
   "metadata": {},
   "outputs": [],
   "source": [
    "import numpy as np\n",
    "import tensorflow\n",
    "from tensorflow import keras\n",
    "\n",
    "docs= [\n",
    "    \"The dog runs in the park every morning.\",\n",
    "    \"A small dog chased a ball across the park.\",\n",
    "    \"Children love to play in the park when the sun is bright.\",\n",
    "    \"I saw a dog sleeping under the old tree.\",\n",
    "    \"The sun rises over the park and fills it with light.\",\n",
    "    \"We decided to run together before the sun went down.\",\n",
    "    \"A playful dog barked loudly at the gate.\",\n",
    "    \"They like to run around the park on weekends.\",\n",
    "    \"The park looks peaceful when the sun sets behind the hills.\",\n",
    "    \"Running with my dog in the park makes me happy.\"\n",
    "]\n"
   ]
  },
  {
   "cell_type": "code",
   "execution_count": 8,
   "id": "10ef0930",
   "metadata": {},
   "outputs": [],
   "source": [
    "# Tokenizing the data\n",
    "from tensorflow.keras.preprocessing.text import Tokenizer\n",
    "tokenizer=Tokenizer(oov_token=\"nothing\") # oov_token-> out of vocabulary token i.e. replace all the words not present in the vocabulary with 'nothing'"
   ]
  },
  {
   "cell_type": "code",
   "execution_count": 9,
   "id": "9f1da738",
   "metadata": {},
   "outputs": [],
   "source": [
    "tokenizer.fit_on_texts(docs)"
   ]
  },
  {
   "cell_type": "code",
   "execution_count": 10,
   "id": "810dee2a",
   "metadata": {},
   "outputs": [
    {
     "data": {
      "text/plain": [
       "61"
      ]
     },
     "execution_count": 10,
     "metadata": {},
     "output_type": "execute_result"
    }
   ],
   "source": [
    "len(tokenizer.word_index) # number of unique words in the vocabulary"
   ]
  },
  {
   "cell_type": "code",
   "execution_count": 11,
   "id": "afcf367e",
   "metadata": {},
   "outputs": [
    {
     "data": {
      "text/plain": [
       "[[2, 4, 12, 7, 2, 3, 13, 14],\n",
       " [5, 15, 4, 16, 5, 17, 18, 2, 3],\n",
       " [19, 20, 8, 21, 7, 2, 3, 9, 2, 6, 22, 23],\n",
       " [24, 25, 5, 4, 26, 27, 2, 28, 29],\n",
       " [2, 6, 30, 31, 2, 3, 32, 33, 34, 10, 35],\n",
       " [36, 37, 8, 11, 38, 39, 2, 6, 40, 41],\n",
       " [5, 42, 4, 43, 44, 45, 2, 46],\n",
       " [47, 48, 8, 11, 49, 2, 3, 50, 51],\n",
       " [2, 3, 52, 53, 9, 2, 6, 54, 55, 2, 56],\n",
       " [57, 10, 58, 4, 7, 2, 3, 59, 60, 61]]"
      ]
     },
     "execution_count": 11,
     "metadata": {},
     "output_type": "execute_result"
    }
   ],
   "source": [
    "sequences=tokenizer.texts_to_sequences(docs)\n",
    "sequences"
   ]
  },
  {
   "cell_type": "code",
   "execution_count": 12,
   "id": "f99212dd",
   "metadata": {},
   "outputs": [
    {
     "data": {
      "text/plain": [
       "array([[ 2,  4, 12,  7,  2,  3, 13, 14,  0,  0,  0,  0],\n",
       "       [ 5, 15,  4, 16,  5, 17, 18,  2,  3,  0,  0,  0],\n",
       "       [19, 20,  8, 21,  7,  2,  3,  9,  2,  6, 22, 23],\n",
       "       [24, 25,  5,  4, 26, 27,  2, 28, 29,  0,  0,  0],\n",
       "       [ 2,  6, 30, 31,  2,  3, 32, 33, 34, 10, 35,  0],\n",
       "       [36, 37,  8, 11, 38, 39,  2,  6, 40, 41,  0,  0],\n",
       "       [ 5, 42,  4, 43, 44, 45,  2, 46,  0,  0,  0,  0],\n",
       "       [47, 48,  8, 11, 49,  2,  3, 50, 51,  0,  0,  0],\n",
       "       [ 2,  3, 52, 53,  9,  2,  6, 54, 55,  2, 56,  0],\n",
       "       [57, 10, 58,  4,  7,  2,  3, 59, 60, 61,  0,  0]])"
      ]
     },
     "execution_count": 12,
     "metadata": {},
     "output_type": "execute_result"
    }
   ],
   "source": [
    "# applying padding to make all the sequences of the same size\n",
    "from keras.utils import pad_sequences\n",
    "sequences=pad_sequences(sequences,padding='post') # pre-> zeros will be added in the beginning post-> zeros will be added at the end\n",
    "sequences"
   ]
  },
  {
   "cell_type": "code",
   "execution_count": null,
   "id": "394ed463",
   "metadata": {},
   "outputs": [
    {
     "data": {
      "text/plain": [
       "12"
      ]
     },
     "execution_count": 14,
     "metadata": {},
     "output_type": "execute_result"
    }
   ],
   "source": [
    "# numbr of words in each sequence\n",
    "x=len(sequences[0])\n",
    "x"
   ]
  },
  {
   "cell_type": "code",
   "execution_count": null,
   "id": "6a07c8ba",
   "metadata": {},
   "outputs": [],
   "source": [
    "# Embedding layer converts word indices into dense vectors of fixed size\n",
    "# Embedding(input_dim, output_dim, input_length)\n",
    "# input_dim    → size of the vocabulary (total unique words)\n",
    "# output_dim   → dimension of the dense embedding vector for each word\n",
    "# input_length → length of each input sequence (number of words per sentence)\n"
   ]
  },
  {
   "cell_type": "code",
   "execution_count": 13,
   "id": "c70dc9f7",
   "metadata": {},
   "outputs": [],
   "source": [
    "from keras import Sequential\n",
    "from keras.layers import Embedding"
   ]
  },
  {
   "cell_type": "code",
   "execution_count": null,
   "id": "12484e3e",
   "metadata": {},
   "outputs": [
    {
     "name": "stderr",
     "output_type": "stream",
     "text": [
      "c:\\Users\\HP\\anaconda3\\Lib\\site-packages\\keras\\src\\layers\\core\\embedding.py:97: UserWarning: Argument `input_length` is deprecated. Just remove it.\n",
      "  warnings.warn(\n"
     ]
    },
    {
     "data": {
      "text/html": [
       "<pre style=\"white-space:pre;overflow-x:auto;line-height:normal;font-family:Menlo,'DejaVu Sans Mono',consolas,'Courier New',monospace\"><span style=\"font-weight: bold\">Model: \"sequential\"</span>\n",
       "</pre>\n"
      ],
      "text/plain": [
       "\u001b[1mModel: \"sequential\"\u001b[0m\n"
      ]
     },
     "metadata": {},
     "output_type": "display_data"
    },
    {
     "data": {
      "text/html": [
       "<pre style=\"white-space:pre;overflow-x:auto;line-height:normal;font-family:Menlo,'DejaVu Sans Mono',consolas,'Courier New',monospace\">┏━━━━━━━━━━━━━━━━━━━━━━━━━━━━━━━━━┳━━━━━━━━━━━━━━━━━━━━━━━━┳━━━━━━━━━━━━━━━┓\n",
       "┃<span style=\"font-weight: bold\"> Layer (type)                    </span>┃<span style=\"font-weight: bold\"> Output Shape           </span>┃<span style=\"font-weight: bold\">       Param # </span>┃\n",
       "┡━━━━━━━━━━━━━━━━━━━━━━━━━━━━━━━━━╇━━━━━━━━━━━━━━━━━━━━━━━━╇━━━━━━━━━━━━━━━┩\n",
       "│ embedding (<span style=\"color: #0087ff; text-decoration-color: #0087ff\">Embedding</span>)           │ ?                      │   <span style=\"color: #00af00; text-decoration-color: #00af00\">0</span> (unbuilt) │\n",
       "└─────────────────────────────────┴────────────────────────┴───────────────┘\n",
       "</pre>\n"
      ],
      "text/plain": [
       "┏━━━━━━━━━━━━━━━━━━━━━━━━━━━━━━━━━┳━━━━━━━━━━━━━━━━━━━━━━━━┳━━━━━━━━━━━━━━━┓\n",
       "┃\u001b[1m \u001b[0m\u001b[1mLayer (type)                   \u001b[0m\u001b[1m \u001b[0m┃\u001b[1m \u001b[0m\u001b[1mOutput Shape          \u001b[0m\u001b[1m \u001b[0m┃\u001b[1m \u001b[0m\u001b[1m      Param #\u001b[0m\u001b[1m \u001b[0m┃\n",
       "┡━━━━━━━━━━━━━━━━━━━━━━━━━━━━━━━━━╇━━━━━━━━━━━━━━━━━━━━━━━━╇━━━━━━━━━━━━━━━┩\n",
       "│ embedding (\u001b[38;5;33mEmbedding\u001b[0m)           │ ?                      │   \u001b[38;5;34m0\u001b[0m (unbuilt) │\n",
       "└─────────────────────────────────┴────────────────────────┴───────────────┘\n"
      ]
     },
     "metadata": {},
     "output_type": "display_data"
    },
    {
     "data": {
      "text/html": [
       "<pre style=\"white-space:pre;overflow-x:auto;line-height:normal;font-family:Menlo,'DejaVu Sans Mono',consolas,'Courier New',monospace\"><span style=\"font-weight: bold\"> Total params: </span><span style=\"color: #00af00; text-decoration-color: #00af00\">0</span> (0.00 B)\n",
       "</pre>\n"
      ],
      "text/plain": [
       "\u001b[1m Total params: \u001b[0m\u001b[38;5;34m0\u001b[0m (0.00 B)\n"
      ]
     },
     "metadata": {},
     "output_type": "display_data"
    },
    {
     "data": {
      "text/html": [
       "<pre style=\"white-space:pre;overflow-x:auto;line-height:normal;font-family:Menlo,'DejaVu Sans Mono',consolas,'Courier New',monospace\"><span style=\"font-weight: bold\"> Trainable params: </span><span style=\"color: #00af00; text-decoration-color: #00af00\">0</span> (0.00 B)\n",
       "</pre>\n"
      ],
      "text/plain": [
       "\u001b[1m Trainable params: \u001b[0m\u001b[38;5;34m0\u001b[0m (0.00 B)\n"
      ]
     },
     "metadata": {},
     "output_type": "display_data"
    },
    {
     "data": {
      "text/html": [
       "<pre style=\"white-space:pre;overflow-x:auto;line-height:normal;font-family:Menlo,'DejaVu Sans Mono',consolas,'Courier New',monospace\"><span style=\"font-weight: bold\"> Non-trainable params: </span><span style=\"color: #00af00; text-decoration-color: #00af00\">0</span> (0.00 B)\n",
       "</pre>\n"
      ],
      "text/plain": [
       "\u001b[1m Non-trainable params: \u001b[0m\u001b[38;5;34m0\u001b[0m (0.00 B)\n"
      ]
     },
     "metadata": {},
     "output_type": "display_data"
    }
   ],
   "source": [
    "# for every word you'll get 2 words\n",
    "model=Sequential()\n",
    "\n",
    "model.add(Embedding(61,output_dim=2,input_length=12)) # output_dim is upto you, the number of output nodes  \n",
    "\n",
    "model.summary()"
   ]
  }
 ],
 "metadata": {
  "kernelspec": {
   "display_name": "base",
   "language": "python",
   "name": "python3"
  },
  "language_info": {
   "codemirror_mode": {
    "name": "ipython",
    "version": 3
   },
   "file_extension": ".py",
   "mimetype": "text/x-python",
   "name": "python",
   "nbconvert_exporter": "python",
   "pygments_lexer": "ipython3",
   "version": "3.12.7"
  }
 },
 "nbformat": 4,
 "nbformat_minor": 5
}
