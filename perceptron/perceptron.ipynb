{
 "cells": [
  {
   "cell_type": "code",
   "execution_count": 3,
   "id": "fcc9e633",
   "metadata": {},
   "outputs": [],
   "source": [
    "import numpy as np\n",
    "import pandas as pd\n",
    "\n",
    "\n",
    "\n"
   ]
  },
  {
   "cell_type": "code",
   "execution_count": 4,
   "id": "3f037ecd",
   "metadata": {},
   "outputs": [
    {
     "name": "stdout",
     "output_type": "stream",
     "text": [
      "   x1  x2  y\n",
      "0  -1   0  0\n",
      "1   9  -8  0\n",
      "2   0   5  1\n",
      "3   7  -9  0\n",
      "4   2   3  1\n",
      "5  -7   6  0\n",
      "6 -10 -10  0\n",
      "7  -6  -2  0\n",
      "8   8   8  1\n",
      "9  -2   4  1\n"
     ]
    }
   ],
   "source": [
    "\n",
    "X1 = np.random.randint(-10, 11, 1000)  \n",
    "X2 = np.random.randint(-10, 11, 1000)\n",
    "\n",
    "y = np.where(2 * X1 + 3 * X2 > 5, 1, 0)\n",
    "\n",
    "data = pd.DataFrame({\n",
    "    'x1': X1,\n",
    "    'x2': X2,\n",
    "    'y': y\n",
    "})\n",
    "\n",
    "print(data.head(10))\n",
    "\n",
    "\n"
   ]
  },
  {
   "cell_type": "code",
   "execution_count": null,
   "id": "22f7b86e",
   "metadata": {},
   "outputs": [],
   "source": []
  }
 ],
 "metadata": {
  "kernelspec": {
   "display_name": "base",
   "language": "python",
   "name": "python3"
  },
  "language_info": {
   "codemirror_mode": {
    "name": "ipython",
    "version": 3
   },
   "file_extension": ".py",
   "mimetype": "text/x-python",
   "name": "python",
   "nbconvert_exporter": "python",
   "pygments_lexer": "ipython3",
   "version": "3.12.7"
  }
 },
 "nbformat": 4,
 "nbformat_minor": 5
}
