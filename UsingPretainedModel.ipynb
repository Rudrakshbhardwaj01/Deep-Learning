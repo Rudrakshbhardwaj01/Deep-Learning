{
  "nbformat": 4,
  "nbformat_minor": 0,
  "metadata": {
    "colab": {
      "provenance": [],
      "authorship_tag": "ABX9TyO1A062NZeR/fClzDX6HrLv",
      "include_colab_link": true
    },
    "kernelspec": {
      "name": "python3",
      "display_name": "Python 3"
    },
    "language_info": {
      "name": "python"
    }
  },
  "cells": [
    {
      "cell_type": "markdown",
      "metadata": {
        "id": "view-in-github",
        "colab_type": "text"
      },
      "source": [
        "<a href=\"https://colab.research.google.com/github/Rudrakshbhardwaj01/Deep-Learning/blob/main/UsingPretainedModel.ipynb\" target=\"_parent\"><img src=\"https://colab.research.google.com/assets/colab-badge.svg\" alt=\"Open In Colab\"/></a>"
      ]
    },
    {
      "cell_type": "code",
      "execution_count": 3,
      "metadata": {
        "id": "sQo16keOtlkd"
      },
      "outputs": [],
      "source": [
        "from tensorflow.keras.applications.resnet50 import ResNet50\n",
        "from tensorflow.keras.preprocessing import image\n",
        "from tensorflow.keras.applications.resnet50 import preprocess_input, decode_predictions\n",
        "import numpy as np"
      ]
    },
    {
      "cell_type": "code",
      "source": [
        "model=ResNet50(weights='imagenet') # use the weights acquired after training the model on the imageNet dataset"
      ],
      "metadata": {
        "id": "H9E7DL8LuMi2"
      },
      "execution_count": 4,
      "outputs": []
    },
    {
      "cell_type": "code",
      "source": [
        "img_path='/content/dog.jpg'\n",
        "img=image.load_img(img_path,target_size=(224,224))\n",
        "x=image.img_to_array(img) # convert the image into an array\n",
        "x=np.expand_dims(x,axis=0) # convert the array into batches\n",
        "x=preprocess_input(x) # preprocess"
      ],
      "metadata": {
        "id": "NMPZsfLnuRv4"
      },
      "execution_count": 5,
      "outputs": []
    },
    {
      "cell_type": "code",
      "source": [
        "preds=model.predict(x)\n",
        "print('Predicted:', decode_predictions(preds,top=3)[0])"
      ],
      "metadata": {
        "colab": {
          "base_uri": "https://localhost:8080/"
        },
        "id": "vw2oVdVdwDGf",
        "outputId": "dc52cad8-38fb-4ca7-b9a0-f0d1c8289ae1"
      },
      "execution_count": 6,
      "outputs": [
        {
          "output_type": "stream",
          "name": "stdout",
          "text": [
            "\u001b[1m1/1\u001b[0m \u001b[32m━━━━━━━━━━━━━━━━━━━━\u001b[0m\u001b[37m\u001b[0m \u001b[1m2s\u001b[0m 2s/step\n",
            "Downloading data from https://storage.googleapis.com/download.tensorflow.org/data/imagenet_class_index.json\n",
            "\u001b[1m35363/35363\u001b[0m \u001b[32m━━━━━━━━━━━━━━━━━━━━\u001b[0m\u001b[37m\u001b[0m \u001b[1m0s\u001b[0m 0us/step\n",
            "Predicted: [('n02113023', 'Pembroke', np.float32(0.8486005)), ('n02086646', 'Blenheim_spaniel', np.float32(0.04296741)), ('n02088364', 'beagle', np.float32(0.024891237))]\n"
          ]
        }
      ]
    },
    {
      "cell_type": "code",
      "source": [
        "# decode_predictions(preds, top=3)[0]\n",
        "# ---------------------------------------------------------\n",
        "# This function converts the model's output probabilities (preds)\n",
        "# into human-readable class labels.\n",
        "#\n",
        "# - 'preds' is the prediction output (usually from a model like VGG16, ResNet, etc.)\n",
        "# - 'top=3' means it will return the top 3 most likely class labels with their probabilities.\n",
        "# - '[0]' is used to access the predictions for the first image (if batch size > 1)."
      ],
      "metadata": {
        "id": "aV54zNM2wkRT"
      },
      "execution_count": 7,
      "outputs": []
    }
  ]
}